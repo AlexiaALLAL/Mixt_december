{
 "cells": [
  {
   "cell_type": "markdown",
   "metadata": {},
   "source": [
    "# Unsupervised Feature Alignment with Soft DTW Loss\n",
    "\n",
    "In this exercise we will use a library to get a distance function on time-series and use that as loss. You will get to know dynamic time warping which can be used to measure the distance between sequences. You will also use a certain network architecture called Siamese network which can be used supervised but also unsupervised to map positive and negative examples into a feature space and then minimize the distance of their feature representation. In this notebook you will use both together to train a network unsupervised to create a representation where similar activities are close to each other and finally use a kNN classifier to calculate the performance on a downstream classification task. \n",
    "\n",
    "### Exercise Overview\n",
    "\n",
    "In this exercise, you will:\n",
    "1. Use a library for **SOFT** Dynamic Time Warping (DTW) to compute time-series similarity. (Soft is very important as normal DTW is not differentiable). Please look into pysdtw (Available with pip or https://github.com/toinsson/pysdtw) which is a pytorch based Cuda-ready version.\n",
    "2. Implement a custom PyTorch Dataset for generating sequence pairs dynamically.\n",
    "3. Train a Siamese network using Soft DTW as the loss function.\n",
    "4. Evaluate the learned representations using a k-Nearest Neighbors (kNN) classifier.\n",
    "5. Finetune using a single linear layer\n",
    "6. Visualize and analyze the results.\n",
    "7. (Bonus) Show the strength between the correlation between the DTW-distance of the input and the feature representation.\n",
    "\n",
    "### Dataset\n",
    "We will use the UCI Human Activity Recognition (HAR) dataset, which contains time-series data from smartphone accelerometers and gyroscopes.\n",
    "\n",
    "**Important**: At the end you should write a report of adequate size, which will probably mean at least half a page. In the report you should describe how you approached the task. You should describe:\n",
    "- Encountered difficulties (due to the method, e.g. \"not enough training samples to converge\", not technical like \"I could not install a package over pip\")\n",
    "- Steps taken to alleviate difficulties\n",
    "- General description of what you did, explain how you understood the task and what you did to solve it in general language, no code.\n",
    "- Potential limitations of your approach, what could be issues, how could this be hard on different data or with slightly different conditions\n",
    "- If you have an idea how this could be extended in an interesting way, describe it."
   ]
  },
  {
   "cell_type": "markdown",
   "metadata": {},
   "source": [
    "# Some explanations"
   ]
  },
  {
   "cell_type": "markdown",
   "metadata": {},
   "source": [
    "## Dynamic Time Warping\n",
    "Dynamic Time Warping (DTW) is an algorithm used to measure the similarity between two time series, even if they are out of sync in terms of speed or timing. Unlike traditional methods that align data point by point, DTW allows for non-linear alignment by \"warping\" the time axis. The idea is to find the optimal match between two sequences by stretching or compressing them along the time axis, minimizing the total distance between corresponding points. DTW does this by computing a cost matrix, where each entry represents the cost of aligning a point from one series with a point from the other. The path with the lowest cumulative cost is the optimal alignment.\n",
    "\n",
    "As a distance function, DTW is useful for comparing time series that might have different lengths or varying speeds. For example, DTW can be applied to applications such as speech recognition, where two spoken phrases might be of different lengths or spoken at different speeds, but still convey the same meaning. By calculating the DTW distance, we can measure how similar two time series are, regardless of time shifts or distortions. \n",
    "\n",
    "Excellent introduction: https://www.youtube.com/watch?v=ERKDHZyZDwA\n",
    "\n",
    "## Siamese Networks\n",
    "Siamese Networks are a type of neural network architecture designed for comparing two inputs and measuring their similarity. Instead of directly predicting a single label for an input, Siamese Networks take in two input data points, pass them through identical networks (hence \"siamese\"), and compare the outputs. The network can be trained by stating if the two inputs are equal or uneqal. If they map into a feature space instead of immediately into an output label space, the distance in the feature space can be used in the loss function which is the task here.\n",
    "\n",
    "In the context of this unsupervised representation learning, Siamese Networks can be used to learn meaningful features from unlabeled data. A popular technique related to this is *MoCo* (Momentum Contrast), which uses Siamese-like networks for contrastive learning. In MoCo, two different views (augmented versions) of the same data point are passed through two identical networks. One network is updated using the current model, while the other follows a momentum-based update rule. The networks are trained to bring the representations of similar views (positive pairs) closer together, while pushing the representations of dissimilar views (negative pairs) apart. This approach allows the model to learn useful representations for later fine-tuning on a classification task without needing explicit labels, relying instead on the assumption that augmented views of the same instance should be similar in the learned feature space.\n",
    "\n",
    "In this exercise the Siamese network should be used to learn to structure the feature space, guided by the similarity calculation of the DTW. After it should be evaluated how well that method performs for classification. The comment about MoCo is only for information about this close topic, it is not necessary to use it at all."
   ]
  },
  {
   "cell_type": "markdown",
   "metadata": {},
   "source": [
    "## Part 1: Data Preparation\n",
    "\n",
    "Load the UCI HAR dataset and implement a custom `Dataset` class to generate pairs dynamically."
   ]
  },
  {
   "cell_type": "code",
   "execution_count": 2,
   "metadata": {},
   "outputs": [],
   "source": [
    "import urllib.request\n",
    "\n",
    "def unzip(filename, dest_path = None):\n",
    "    # unzips a zip file in the folder of the notebook to the notebook\n",
    "    with ZipFile(filename, 'r') as zObject: \n",
    "        # Extracting all the members of the zip  \n",
    "        # into a specific location. a\n",
    "        if dest_path is None:\n",
    "            zObject.extractall(path=os.getcwd())\n",
    "        else:\n",
    "            zObject.extractall(path=dest_path)\n",
    "\n",
    "import os\n",
    "def download(url, filename):\n",
    "    # download with check if file exists already\n",
    "    if os.path.isfile(filename):\n",
    "        return\n",
    "    urllib.request.urlretrieve(url,filename)\n",
    "\n",
    "from zipfile import ZipFile\n",
    "\n",
    "# Un-comment lines below only if executing on Google-COLAB\n",
    "# ![[ -f UCI_HAR.zip ]] || wget --no-check-certificate https://people.minesparis.psl.eu/fabien.moutarde/ES_MachineLearning/Practical_sequentialData/UCI_HAR.zip\n",
    "# ![[ -f \"UCI_HAR\" ]] || unzip UCI_HAR.zip\n",
    "\n",
    "download('https://people.minesparis.psl.eu/fabien.moutarde/ES_MachineLearning/Practical_sequentialData/UCI_HAR.zip','UCI_HAR.zip')\n",
    "\n",
    "unzip('UCI_HAR.zip')"
   ]
  },
  {
   "cell_type": "code",
   "execution_count": 3,
   "metadata": {},
   "outputs": [
    {
     "name": "stdout",
     "output_type": "stream",
     "text": [
      "Your python version: 3\n",
      "Shape of examples: (128, 9)  (i.e.  9  timeseries of length= 128 )\n",
      "Training set shape: (7352, 128, 9)\n",
      "Test set shape: (2947, 128, 9)\n",
      "Number of classes = 6\n",
      "Activity classes (target values) {1: 'WALKING', 2: 'WALKING UPSTAIRS', 3: 'WALKING DOWNSTAIRS', 4: 'SITTING', 5: 'STANDING', 6: 'LAYING'}\n"
     ]
    }
   ],
   "source": [
    "# Import Necessary packages\n",
    "import numpy as np\n",
    "import pandas as pd\n",
    "import matplotlib.pylab as plt\n",
    "import sklearn as sk\n",
    "import sys\n",
    "print('Your python version: {}'.format(sys.version_info.major))\n",
    "\n",
    "\n",
    "\n",
    "#Path to the dataset folder\n",
    "filepath='./UCI_HAR/'\n",
    "\n",
    "groups=['train','test']\n",
    "\n",
    "for group in groups:\n",
    "    prefix=filepath+group+'/InertialSignals/'\n",
    "    \n",
    "    \n",
    "    filenames = list()\n",
    "    filenames += ['body_acc_x_'+group+'.txt', 'body_acc_y_'+group+'.txt', 'body_acc_z_'+group+'.txt']\n",
    "    filenames += ['body_gyro_x_'+group+'.txt', 'body_gyro_y_'+group+'.txt', 'body_gyro_z_'+group+'.txt']\n",
    "\n",
    "    loaded = []\n",
    "    for name in filenames:\n",
    "        file=open(prefix+name,'r')\n",
    "        data = []\n",
    "        for x in file:\n",
    "            data.append([float(ts) for ts in x.split()])\n",
    "        data = np.array(data)\n",
    "        #Concatenation of all data concerning the two 3D raw features (body acceleration and angular velocity)\n",
    "        loaded.append(data)\n",
    "\n",
    "    #Name of the last 3D raw feature\n",
    "    filenames_rest = ['total_acc_x_'+group+'.txt', 'total_acc_y_'+group+'.txt', 'total_acc_z_'+group+'.txt']\n",
    "\n",
    "    #First add the two previous 3D raw features\n",
    "    loaded_all = []\n",
    "    loaded_all += loaded\n",
    "\n",
    "    #Then add the last 3D raw feature\n",
    "    for name in filenames_rest:\n",
    "        file=open(prefix+name,'r')\n",
    "        data = []\n",
    "        for x in file:\n",
    "            data.append([float(ts) for ts in x.split()])\n",
    "        data = np.array(data)\n",
    "        #Concatenation of all data concerning all 3D raw features (body acceleration, angular velocity and total acceleration)\n",
    "        loaded_all.append(data)\n",
    "\n",
    "    # Stack group so that features are the 3rd dimension --> (samples, time steps, features)\n",
    "    loaded = np.dstack(loaded)\n",
    "    loaded_all = np.dstack(loaded_all)\n",
    "\n",
    "    if group == 'train':\n",
    "        #Training set for two 3D raw features\n",
    "        tx_train = loaded\n",
    "        #Training set for all 3D raw features\n",
    "        tx_train_all = loaded_all\n",
    "    if group =='test':\n",
    "        #Testing set for two 3D raw features\n",
    "        tx_test = loaded\n",
    "        #Testing set for all 3D raw features\n",
    "        tx_test_all = loaded_all\n",
    "\n",
    "nbTimeseries = tx_train_all[0].shape[1]\n",
    "lengthTimeseries = tx_train_all[0].shape[0]\n",
    "print(\"Shape of examples:\",tx_train_all[0].shape,\" (i.e. \",nbTimeseries,\" timeseries of length=\",lengthTimeseries,\")\")\n",
    "\n",
    "print(\"Training set shape:\",tx_train_all.shape)\n",
    "print(\"Test set shape:\",tx_test_all.shape)\n",
    "\n",
    "# Load labels\n",
    "y_train = []\n",
    "y_test = []\n",
    "y_train_file = open(filepath+'train/y_train.txt', 'r')\n",
    "y_test_file = open(filepath+'test/y_test.txt', 'r')\n",
    "for y in y_train_file:\n",
    "    y_train.append(int(y.rstrip('\\n')))\n",
    "for y in y_test_file:\n",
    "    y_test.append(int(y.rstrip('\\n')))\n",
    "target_train = np.array(y_train) - 1\n",
    "target_test = np.array(y_test) - 1\n",
    "\n",
    "# Mapping table for classes\n",
    "labels = {1:'WALKING', 2:'WALKING UPSTAIRS', 3:'WALKING DOWNSTAIRS',\n",
    "          4:'SITTING', 5:'STANDING', 6:'LAYING'}\n",
    "\n",
    "nbClasses = len(labels)\n",
    "print(\"Number of classes =\", nbClasses)\n",
    "print(\"Activity classes (target values)\",labels)\n",
    "\n",
    "# Shuffle (because data is initially somewhat organized by class)\n",
    "tx_train_all, target_train = sk.utils.shuffle(tx_train_all, target_train, random_state=0)\n",
    "tx_test_all, target_test = sk.utils.shuffle(tx_test_all, target_test, random_state=0)"
   ]
  },
  {
   "cell_type": "code",
   "execution_count": 4,
   "metadata": {},
   "outputs": [],
   "source": [
    "# Import necessary libraries\n",
    "import numpy as np\n",
    "import pandas as pd\n",
    "from torch.utils.data import Dataset, DataLoader\n",
    "import torch\n",
    "import random\n",
    "\n",
    "# Load the UCI HAR dataset (adjust file paths as needed)\n",
    "# X_train = pd.read_csv('./UCI_HAR/train/X_train.txt', delim_whitespace=True, header=None)\n",
    "# y_train = pd.read_csv('./UCI_HAR/train/y_train.txt', header=None).values.ravel()\n",
    "# X_test = pd.read_csv('./UCI_HAR/test/X_test.txt', delim_whitespace=True, header=None)\n",
    "# y_test = pd.read_csv('./UCI_HAR/test/y_test.txt', header=None).values.ravel()\n",
    "\n",
    "# print(X_train.shape, y_train.shape, X_test.shape, y_test.shape)\n",
    "\n",
    "# Define a custom Dataset for Siamese Network\n",
    "class SiameseDataset(Dataset):\n",
    "    def __init__(self, data, labels):\n",
    "        self.data = data\n",
    "        self.labels = labels\n",
    "\n",
    "    def __len__(self):\n",
    "        return len(self.data)\n",
    "\n",
    "    def __getitem__(self, idx):\n",
    "        # Define the logic for selecting pairs of sequences\n",
    "        pair_label = round(random.randint(0, 1))\n",
    "\n",
    "        if pair_label:\n",
    "            # Positive pair (same class), label = 1\n",
    "            idx2 = random.randint(0, len(self.data) - 1)\n",
    "            while self.labels[idx2] != self.labels[idx]:\n",
    "                idx2 = random.randint(0, len(self.data) - 1)\n",
    "\n",
    "        else:\n",
    "            # Negative pair (different class), label = 0\n",
    "            idx2 = random.randint(0, len(self.data) - 1)\n",
    "            while self.labels[idx2] == self.labels[idx]:\n",
    "                idx2 = random.randint(0, len(self.data) - 1)\n",
    "\n",
    "        seq1 = self.data[idx][:, :6]\n",
    "        seq2 = self.data[idx2][:, :6]\n",
    "        seq1 = torch.tensor(seq1, dtype=torch.float32, requires_grad=True)\n",
    "        seq2 = torch.tensor(seq2, dtype=torch.float32, requires_grad=True)\n",
    "        label = torch.tensor([pair_label], dtype=torch.float32, requires_grad=True)\n",
    "        return seq1, seq2, pair_label\n",
    "\n",
    "# Create train and test datasets using the custom Dataset class\n",
    "train_dataset = SiameseDataset(tx_train_all, target_train)\n",
    "test_dataset = SiameseDataset(tx_test_all, target_test)"
   ]
  },
  {
   "cell_type": "code",
   "execution_count": 5,
   "metadata": {},
   "outputs": [
    {
     "data": {
      "text/plain": [
       "(7352, 128, 9)"
      ]
     },
     "execution_count": 5,
     "metadata": {},
     "output_type": "execute_result"
    }
   ],
   "source": [
    "tx_train_all.shape"
   ]
  },
  {
   "cell_type": "code",
   "execution_count": 12,
   "metadata": {},
   "outputs": [
    {
     "data": {
      "text/plain": [
       "(7352,)"
      ]
     },
     "execution_count": 12,
     "metadata": {},
     "output_type": "execute_result"
    }
   ],
   "source": [
    "target_train.shape"
   ]
  },
  {
   "cell_type": "markdown",
   "metadata": {},
   "source": [
    "7352 times series of 128 timesteps of 9 features."
   ]
  },
  {
   "cell_type": "code",
   "execution_count": 6,
   "metadata": {},
   "outputs": [
    {
     "data": {
      "text/plain": [
       "7352"
      ]
     },
     "execution_count": 6,
     "metadata": {},
     "output_type": "execute_result"
    }
   ],
   "source": [
    "len(target_train)"
   ]
  },
  {
   "cell_type": "code",
   "execution_count": 7,
   "metadata": {},
   "outputs": [
    {
     "data": {
      "text/plain": [
       "torch.Size([128, 6])"
      ]
     },
     "execution_count": 7,
     "metadata": {},
     "output_type": "execute_result"
    }
   ],
   "source": [
    "train_dataset[0][0].shape"
   ]
  },
  {
   "cell_type": "code",
   "execution_count": 11,
   "metadata": {},
   "outputs": [
    {
     "data": {
      "text/plain": [
       "1"
      ]
     },
     "execution_count": 11,
     "metadata": {},
     "output_type": "execute_result"
    }
   ],
   "source": [
    "train_dataset[0][2]"
   ]
  },
  {
   "cell_type": "markdown",
   "metadata": {},
   "source": [
    "## Part 2: Using a DTW Library\n",
    "\n",
    "Use a library to compute the Dynamic Time Warping (DTW) distance between sequences. Implement a differentiable Soft DTW function to calculate this distance."
   ]
  },
  {
   "cell_type": "code",
   "execution_count": null,
   "metadata": {},
   "outputs": [
    {
     "name": "stdout",
     "output_type": "stream",
     "text": [
      "DTW distance: 0.10518583655357361, Label: 1\n",
      "DTW distance: -0.07250571995973587, Label: 1\n",
      "DTW distance: 100.6078872680664, Label: 0\n",
      "DTW distance: 149.0078582763672, Label: 0\n",
      "DTW distance: 85.1321029663086, Label: 0\n",
      "DTW distance: -0.07046439498662949, Label: 1\n",
      "DTW distance: 0.27484792470932007, Label: 1\n",
      "DTW distance: 0.14723347127437592, Label: 1\n",
      "DTW distance: -0.09039749950170517, Label: 1\n",
      "DTW distance: 0.09962930530309677, Label: 1\n",
      "DTW distance: 176.7351531982422, Label: 0\n",
      "DTW distance: -0.08532507717609406, Label: 1\n",
      "DTW distance: 0.5710245370864868, Label: 0\n",
      "DTW distance: 0.6494342684745789, Label: 1\n",
      "DTW distance: 135.85935974121094, Label: 0\n",
      "DTW distance: 95.50320434570312, Label: 0\n",
      "DTW distance: 50.34520721435547, Label: 0\n",
      "DTW distance: -0.10988287627696991, Label: 1\n",
      "DTW distance: 6.794946193695068, Label: 1\n",
      "DTW distance: 0.05119739845395088, Label: 1\n",
      "DTW distance: -0.061859894543886185, Label: 1\n",
      "DTW distance: -0.0765310749411583, Label: 1\n",
      "DTW distance: 6.801090240478516, Label: 1\n",
      "DTW distance: 58.11648941040039, Label: 1\n",
      "DTW distance: 73.67874145507812, Label: 0\n",
      "DTW distance: -0.09625537693500519, Label: 1\n",
      "DTW distance: 40.95608139038086, Label: 0\n",
      "DTW distance: 17.877864837646484, Label: 1\n",
      "DTW distance: 0.7024620771408081, Label: 1\n",
      "DTW distance: 0.17912180721759796, Label: 1\n",
      "DTW distance: 0.40833958983421326, Label: 1\n",
      "DTW distance: -0.10131968557834625, Label: 1\n",
      "DTW distance: 0.04405850172042847, Label: 0\n",
      "DTW distance: -0.10069887340068817, Label: 0\n",
      "DTW distance: -0.07531125843524933, Label: 1\n",
      "DTW distance: -0.09894413501024246, Label: 1\n",
      "DTW distance: 0.01876990683376789, Label: 0\n",
      "DTW distance: 0.007235181052237749, Label: 0\n",
      "DTW distance: 104.05331420898438, Label: 0\n",
      "DTW distance: 1.9109526872634888, Label: 0\n",
      "DTW distance: 112.72203826904297, Label: 0\n",
      "DTW distance: 63.96010208129883, Label: 0\n",
      "DTW distance: 165.77099609375, Label: 0\n",
      "DTW distance: 162.3892059326172, Label: 0\n",
      "DTW distance: 0.23851636052131653, Label: 1\n",
      "DTW distance: -0.011793073266744614, Label: 1\n",
      "DTW distance: 79.97711944580078, Label: 0\n",
      "DTW distance: 98.85325622558594, Label: 0\n",
      "DTW distance: -0.06839272379875183, Label: 0\n",
      "DTW distance: 158.04000854492188, Label: 0\n",
      "\n",
      "\n",
      "Mean DTW distance for label 0: 77.332\n",
      "Mean DTW distance for label 1: 3.519\n"
     ]
    }
   ],
   "source": [
    "# Install and use a DTW library like pysdtw\n",
    "import pysdtw\n",
    "\n",
    "def dtw_distance(seq1, seq2):\n",
    "    # Compute the DTW distance between two sequences\n",
    "    # optionally choose a pairwise distance function\n",
    "    # seq1 of shape (128, 9), seq2 of shape (128, 9)\n",
    "    fun = pysdtw.distance.pairwise_l2_squared\n",
    "\n",
    "    # create the SoftDTW distance function\n",
    "    sdtw = pysdtw.SoftDTW(gamma=0.001, dist_func=fun, use_cuda=False)\n",
    "\n",
    "    # soft-DTW discrepancy, approaches DTW as gamma -> 0\n",
    "    # compare each acceleration and gyro data\n",
    "    # accx = sdtw(seq1[:, 0], seq2[:, 0])\n",
    "    # accy = sdtw(seq1[:, 1], seq2[:, 1])\n",
    "    # accz = sdtw(seq1[:, 2], seq2[:, 2])\n",
    "    # gyrox = sdtw(seq1[:, 3], seq2[:, 3])\n",
    "    # gyroy = sdtw(seq1[:, 4], seq2[:, 4])\n",
    "    # gyroz = sdtw(seq1[:, 5], seq2[:, 5])\n",
    "    # res = (accx + accy + accz) / 3\n",
    "    res = sdtw(seq1, seq2)\n",
    "    loss = res.mean()\n",
    "    return loss\n",
    "\n",
    "# Test the DTW function with example sequences\n",
    "d_0 = []\n",
    "d_1 = []\n",
    "n = 50\n",
    "for i in range(n):\n",
    "    seq1, seq2, label = train_dataset[0]\n",
    "    # print(seq1.shape)\n",
    "    seq1 = seq1.unsqueeze(0)\n",
    "    seq2 = seq2.unsqueeze(0)\n",
    "    distance = dtw_distance(seq1, seq2)\n",
    "    if label == 0:\n",
    "        d_0.append(distance.item())\n",
    "    else:\n",
    "        d_1.append(distance.item())\n",
    "    print(f\"DTW distance: {distance}, Label: {label}\")\n",
    "\n",
    "\n",
    "print(f\"\\n\\nMean DTW distance for label 0: {np.mean(d_0):.3f}\")\n",
    "print(f\"Mean DTW distance for label 1: {np.mean(d_1):.3f}\")"
   ]
  },
  {
   "cell_type": "markdown",
   "metadata": {},
   "source": [
    "## Part 3: Train a Siamese Network\n",
    "\n",
    "Define and train a Siamese network in PyTorch using the Soft DTW loss function. Implement the network structure and training logic."
   ]
  },
  {
   "cell_type": "code",
   "execution_count": null,
   "metadata": {},
   "outputs": [
    {
     "name": "stdout",
     "output_type": "stream",
     "text": [
      "Epoch 1, Loss: 89.3850467801094\n",
      "Epoch 2, Loss: 77.02008980512619\n",
      "Epoch 3, Loss: 73.94363594055176\n",
      "Epoch 4, Loss: 72.61676493287086\n",
      "Epoch 5, Loss: 71.40458625555038\n",
      "Epoch 6, Loss: 70.63721430301666\n",
      "Epoch 7, Loss: 69.87571269273758\n",
      "Epoch 8, Loss: 69.90037077665329\n",
      "Epoch 9, Loss: 69.26155757904053\n",
      "Epoch 10, Loss: 69.0110114812851\n",
      "Epoch 11, Loss: 68.81434720754623\n",
      "Epoch 12, Loss: 69.5323137640953\n",
      "Epoch 13, Loss: 68.74084475636482\n",
      "Epoch 14, Loss: 68.21156376600266\n",
      "Epoch 15, Loss: 68.10728198289871\n",
      "Epoch 16, Loss: 67.89023244380951\n",
      "Epoch 17, Loss: 67.5528809428215\n",
      "Epoch 18, Loss: 67.67386263608932\n",
      "Epoch 19, Loss: 67.8295396566391\n",
      "Epoch 20, Loss: 68.12090235948563\n",
      "Epoch 21, Loss: 67.88143455982208\n",
      "Epoch 22, Loss: 67.98032265901566\n",
      "Epoch 23, Loss: 67.28477597236633\n",
      "Epoch 24, Loss: 67.54151725769043\n",
      "Epoch 25, Loss: 67.17399424314499\n",
      "Epoch 26, Loss: 67.27398705482483\n",
      "Epoch 27, Loss: 67.27323567867279\n",
      "Epoch 28, Loss: 67.10078871250153\n",
      "Epoch 29, Loss: 67.3071591258049\n",
      "Epoch 30, Loss: 68.04133188724518\n",
      "Epoch 31, Loss: 67.28709435462952\n",
      "Epoch 32, Loss: 67.6580581665039\n",
      "Epoch 33, Loss: 67.00804722309113\n",
      "Epoch 34, Loss: 67.01482486724854\n",
      "Epoch 35, Loss: 66.98978018760681\n",
      "Epoch 36, Loss: 67.11202853918076\n",
      "Epoch 37, Loss: 67.04209530353546\n",
      "Epoch 38, Loss: 67.07006847858429\n",
      "Epoch 39, Loss: 66.42816364765167\n",
      "Epoch 40, Loss: 66.40025568008423\n",
      "Epoch 41, Loss: 67.14468216896057\n",
      "Epoch 42, Loss: 66.50385963916779\n",
      "Epoch 43, Loss: 66.64344727993011\n",
      "Epoch 44, Loss: 67.84834599494934\n",
      "Epoch 45, Loss: 66.80650359392166\n",
      "Epoch 46, Loss: 67.20599734783173\n",
      "Epoch 47, Loss: 66.72952419519424\n",
      "Epoch 48, Loss: 66.78065252304077\n",
      "Epoch 49, Loss: 67.01494705677032\n",
      "Epoch 50, Loss: 67.10997945070267\n"
     ]
    }
   ],
   "source": [
    "# Define a Siamese Network class\n",
    "class SiameseNetwork(torch.nn.Module):\n",
    "    def __init__(self, input_size, hidden_size):\n",
    "        super(SiameseNetwork, self).__init__()\n",
    "        self.input_size = input_size\n",
    "        self.hidden_size = hidden_size\n",
    "\n",
    "        # Initialize the network layers\n",
    "        # input_size=(128 x 6), we want to reduce it to hidden_size=128\n",
    "        self.first_layers = torch.nn.Sequential(\n",
    "            torch.nn.Linear(input_size, hidden_size),\n",
    "            torch.nn.ReLU(),\n",
    "            torch.nn.Linear(hidden_size, hidden_size),\n",
    "            torch.nn.ReLU()\n",
    "        ) \n",
    "        # output (128x128) at this point\n",
    "        self.last_layers = torch.nn.Sequential(\n",
    "            torch.nn.Linear(hidden_size * 128, hidden_size),\n",
    "            torch.nn.ReLU()\n",
    "        )   \n",
    "\n",
    "    def forward_one(self, x):\n",
    "        # Forward pass logic for one branch\n",
    "        x = self.first_layers(x)\n",
    "        x = x.view(-1, self.hidden_size * 128)\n",
    "        x = self.last_layers(x)\n",
    "        return x\n",
    "\n",
    "    def forward(self, input1, input2):\n",
    "        # Logic for processing both branches\n",
    "        # print(\"shape input1\", input1.shape, \"shape input2\", input2.shape)\n",
    "        output1 = self.forward_one(input1)\n",
    "        output2 = self.forward_one(input2)\n",
    "        # print(\"shape output1\", output1.shape, \"shape output2\", output2.shape)\n",
    "        return output1, output2\n",
    "    \n",
    "        # return output1, output2\n",
    "\n",
    "# Train the network with the defined loss function (dtw_distance) and optimizer\n",
    "def train_network(model, train_loader, criterion, optimizer, num_epochs=10):\n",
    "    model.train()\n",
    "    for epoch in range(num_epochs):\n",
    "        total_loss = 0\n",
    "        for i, (seq1, seq2, label) in enumerate(train_loader):\n",
    "            optimizer.zero_grad()\n",
    "            out1, out2 = model(seq1, seq2)\n",
    "            # print(\"shape label\", label.shape)\n",
    "            loss = criterion(out1, out2, label.float())\n",
    "            loss.backward()\n",
    "            optimizer.step()\n",
    "            total_loss += loss.item()\n",
    "        print(f\"Epoch {epoch+1}, Loss: {total_loss}\")\n",
    "\n",
    "\n",
    "# Initialize the Siamese Network model\n",
    "input_size = train_dataset[0][0].shape[1]\n",
    "hidden_size = 128 # features space dimension\n",
    "model = SiameseNetwork(input_size, hidden_size)\n",
    "optimizer = torch.optim.Adam(model.parameters(), lr=0.001)\n",
    "\n",
    "class ContrastiveLoss(torch.nn.Module):\n",
    "    def __init__(self, margin=2.0):\n",
    "        super(ContrastiveLoss, self).__init__()\n",
    "        self.margin = margin\n",
    "\n",
    "    def forward(self, output1, output2, label):\n",
    "        euclidean_distance = torch.nn.functional.pairwise_distance(output1, output2)\n",
    "        pos = (1-label) * torch.pow(euclidean_distance, 2)\n",
    "        neg = (label) * torch.pow(torch.clamp(self.margin - euclidean_distance, min=0.0), 2)\n",
    "        loss_contrastive = torch.mean( pos + neg )\n",
    "        return loss_contrastive\n",
    "\n",
    "criterion = ContrastiveLoss(margin=1.5)\n",
    "\n",
    "# Create a DataLoader\n",
    "train_loader = DataLoader(train_dataset, batch_size=64, shuffle=True)\n",
    "test_loader = DataLoader(test_dataset, batch_size=64, shuffle=False)\n",
    "\n",
    "# Train the Siamese Network\n",
    "train_network(model, train_loader, criterion, optimizer, num_epochs=50)"
   ]
  },
  {
   "cell_type": "markdown",
   "metadata": {},
   "source": [
    "## Part 4: Evaluate Representations with kNN\n",
    "\n",
    "Use the trained network to extract embeddings and evaluate their quality using a kNN classifier."
   ]
  },
  {
   "cell_type": "code",
   "execution_count": 31,
   "metadata": {},
   "outputs": [
    {
     "data": {
      "text/plain": [
       "(7352, 128, 9)"
      ]
     },
     "execution_count": 31,
     "metadata": {},
     "output_type": "execute_result"
    }
   ],
   "source": [
    "tx_train_all.shape"
   ]
  },
  {
   "cell_type": "code",
   "execution_count": 35,
   "metadata": {},
   "outputs": [
    {
     "data": {
      "text/plain": [
       "torch.Size([7352, 128])"
      ]
     },
     "execution_count": 35,
     "metadata": {},
     "output_type": "execute_result"
    }
   ],
   "source": [
    "train_features = model.forward_one(torch.tensor(tx_train_all[:,:,0:6], dtype=torch.float32))\n",
    "test_features = model.forward_one(torch.tensor(tx_test_all[:,:,0:6], dtype=torch.float32))\n",
    "train_features.shape"
   ]
  },
  {
   "cell_type": "code",
   "execution_count": 88,
   "metadata": {},
   "outputs": [
    {
     "name": "stdout",
     "output_type": "stream",
     "text": [
      "Accuracy: 0.37699355276552426\n",
      "Confusion Matrix:\n",
      "[[299  56  44  52  13  32]\n",
      " [155 143  47  46  22  58]\n",
      " [102  86  86  55  30  61]\n",
      " [ 25  13  14 233  94 112]\n",
      " [ 41  29  14 215 120 113]\n",
      " [ 26  25  15 186  55 230]]\n"
     ]
    },
    {
     "data": {
      "image/png": "[encoded data removed]",
      "text/plain": [
       "<Figure size 1000x800 with 2 Axes>"
      ]
     },
     "metadata": {},
     "output_type": "display_data"
    }
   ],
   "source": [
    "from sklearn.neighbors import KNeighborsClassifier\n",
    "from sklearn.metrics import accuracy_score, confusion_matrix\n",
    "import seaborn as sns\n",
    "\n",
    "knn = KNeighborsClassifier(\n",
    "    n_neighbors=3\n",
    ")\n",
    "# evaluate on the test set\n",
    "# for a point of the test set, retrieve the nearest neighbors in the train set\n",
    "# and assign the label of the majority of the neighbors\n",
    "knn.fit(train_features.detach().numpy(), target_train)\n",
    "y_pred = knn.predict(test_features.detach().numpy())\n",
    "accuracy = accuracy_score(target_test, y_pred)\n",
    "conf_matrix = confusion_matrix(target_test, y_pred)\n",
    "\n",
    "print(f\"Accuracy: {accuracy}\")\n",
    "print(f\"Confusion Matrix:\\n{conf_matrix}\")\n",
    "\n",
    "# Plot the confusion matrix\n",
    "plt.figure(figsize=(10, 8))\n",
    "conf_matrix = confusion_matrix(target_test, y_pred, normalize='true')\n",
    "sns.heatmap(\n",
    "    conf_matrix, fmt='g', cmap='Blues',\n",
    "    xticklabels=labels.values(), yticklabels=labels.values())\n",
    "plt.xlabel('Predicted labels')\n",
    "plt.ylabel('True labels')\n",
    "plt.title('Confusion Matrix on test set')\n",
    "plt.show()"
   ]
  },
  {
   "cell_type": "markdown",
   "metadata": {},
   "source": [
    "The results are pretty good. We can see that some classes are very well separated, while others are more mixed. For example, standing is often mistaken for sitting, and walking upstairs is often mistaken for walking. This is expected, as these activities are similar in nature and can be hard to distinguish based on accelerometer data alone."
   ]
  },
  {
   "cell_type": "markdown",
   "metadata": {},
   "source": [
    "## Part 5: Fine-Tuning with a Linear Layer\n",
    "\n",
    "Freeze the Siamese network and add a linear layer on top. Fine-tune the linear layer and re-evaluate the model."
   ]
  },
  {
   "cell_type": "code",
   "execution_count": 115,
   "metadata": {},
   "outputs": [
    {
     "name": "stdout",
     "output_type": "stream",
     "text": [
      "Epoch 1, Loss: 1.7863616943359375\n",
      "Epoch 2, Loss: 1.7720476388931274\n",
      "Epoch 3, Loss: 1.7559512853622437\n",
      "Epoch 4, Loss: 1.7726258039474487\n",
      "Epoch 5, Loss: 1.7150415182113647\n",
      "Epoch 6, Loss: 1.7470003366470337\n",
      "Epoch 7, Loss: 1.745849370956421\n",
      "Epoch 8, Loss: 1.7527062892913818\n",
      "Epoch 9, Loss: 1.7420547008514404\n",
      "Epoch 10, Loss: 1.7084801197052002\n",
      "Epoch 11, Loss: 1.70526123046875\n",
      "Epoch 12, Loss: 1.677638053894043\n",
      "Epoch 13, Loss: 1.6942251920700073\n",
      "Epoch 14, Loss: 1.6378448009490967\n",
      "Epoch 15, Loss: 1.6654895544052124\n",
      "Epoch 16, Loss: 1.638565182685852\n",
      "Epoch 17, Loss: 1.6497652530670166\n",
      "Epoch 18, Loss: 1.6553781032562256\n",
      "Epoch 19, Loss: 1.647560715675354\n",
      "Epoch 20, Loss: 1.6459691524505615\n",
      "Epoch 21, Loss: 1.6600991487503052\n",
      "Epoch 22, Loss: 1.6218464374542236\n",
      "Epoch 23, Loss: 1.6477874517440796\n",
      "Epoch 24, Loss: 1.6645190715789795\n",
      "Epoch 25, Loss: 1.6657676696777344\n",
      "Epoch 26, Loss: 1.6293851137161255\n",
      "Epoch 27, Loss: 1.6699787378311157\n",
      "Epoch 28, Loss: 1.6800481081008911\n",
      "Epoch 29, Loss: 1.597139596939087\n",
      "Epoch 30, Loss: 1.5948905944824219\n",
      "Epoch 31, Loss: 1.6439129114151\n",
      "Epoch 32, Loss: 1.622152328491211\n",
      "Epoch 33, Loss: 1.6496402025222778\n",
      "Epoch 34, Loss: 1.6838066577911377\n",
      "Epoch 35, Loss: 1.575154423713684\n",
      "Epoch 36, Loss: 1.5826928615570068\n",
      "Epoch 37, Loss: 1.6253637075424194\n",
      "Epoch 38, Loss: 1.5820101499557495\n",
      "Epoch 39, Loss: 1.5613497495651245\n",
      "Epoch 40, Loss: 1.6142823696136475\n",
      "Epoch 41, Loss: 1.625726580619812\n",
      "Epoch 42, Loss: 1.5697537660598755\n",
      "Epoch 43, Loss: 1.6384344100952148\n",
      "Epoch 44, Loss: 1.6039111614227295\n",
      "Epoch 45, Loss: 1.6440296173095703\n",
      "Epoch 46, Loss: 1.6114237308502197\n",
      "Epoch 47, Loss: 1.6031347513198853\n",
      "Epoch 48, Loss: 1.6257288455963135\n",
      "Epoch 49, Loss: 1.5701645612716675\n",
      "Epoch 50, Loss: 1.6103485822677612\n"
     ]
    }
   ],
   "source": [
    "# Freeze the Siamese network\n",
    "for param in model.parameters():\n",
    "    param.requires_grad = False\n",
    "\n",
    "# Add and train a few linear layers for fine-tuning\n",
    "fc = torch.nn.Sequential(\n",
    "    torch.nn.Linear(128, 64),\n",
    "    torch.nn.ReLU(),\n",
    "    torch.nn.Linear(64, 6),\n",
    "    torch.nn.Softmax(dim=1)\n",
    ")\n",
    "\n",
    "def fine_tune(model, train_loader, criterion, optimizer, num_epochs=10):\n",
    "    model.train()\n",
    "    for epoch in range(num_epochs):\n",
    "        for i, (seq, label) in enumerate(train_loader):\n",
    "            optimizer.zero_grad()\n",
    "            out = model.forward_one(seq)\n",
    "            out = fc(out)\n",
    "            loss = criterion(out, label.long())\n",
    "            loss.backward()\n",
    "            optimizer.step()\n",
    "        print(f\"Epoch {epoch+1}, Loss: {loss.item()}\")\n",
    "    return model\n",
    "\n",
    "criterion = torch.nn.CrossEntropyLoss()\n",
    "optimizer = torch.optim.Adam(fc.parameters(), lr=0.001)\n",
    "\n",
    "# Create a DataLoader\n",
    "class Dataset(Dataset):\n",
    "    def __init__(self, data, labels):\n",
    "        self.data = data\n",
    "        self.labels = labels\n",
    "\n",
    "    def __len__(self):\n",
    "        return len(self.data)\n",
    "\n",
    "    def __getitem__(self, idx):\n",
    "        seq = self.data[idx]\n",
    "        label = self.labels[idx]\n",
    "        return torch.tensor(seq, dtype=torch.float32, requires_grad=True), torch.tensor(label, dtype=torch.float32)\n",
    "\n",
    "train_dataset = Dataset(tx_train_all[:,:,0:6], target_train)\n",
    "train_loader = DataLoader(train_dataset, batch_size=64, shuffle=True)\n",
    "\n",
    "test_dataset = Dataset(tx_test_all[:,:,0:6], target_test)\n",
    "test_loader = DataLoader(test_dataset, batch_size=64, shuffle=False)\n",
    "\n",
    "model = fine_tune(model, train_loader, criterion, optimizer, num_epochs=50)"
   ]
  },
  {
   "cell_type": "code",
   "execution_count": 116,
   "metadata": {},
   "outputs": [
    {
     "name": "stdout",
     "output_type": "stream",
     "text": [
      "Accuracy: 0.4197488971835765\n",
      "Confusion Matrix:\n",
      "[[366  49  38   7  28   8]\n",
      " [132 154  84  18  42  41]\n",
      " [ 91  92 137  10  35  55]\n",
      " [ 35  12  16 164 144 120]\n",
      " [ 50  30  37  98 185 132]\n",
      " [ 30  28  25 120 103 231]]\n"
     ]
    },
    {
     "data": {
      "image/png": "[encoded data removed]",
      "text/plain": [
       "<Figure size 1000x800 with 2 Axes>"
      ]
     },
     "metadata": {},
     "output_type": "display_data"
    }
   ],
   "source": [
    "# Evaluate the fine-tuned model\n",
    "def evaluate(model, test_loader):\n",
    "    model.eval()\n",
    "    y_pred = []\n",
    "    y_true = []\n",
    "    for i, (seq, label) in enumerate(test_loader):\n",
    "        out = model.forward_one(seq)\n",
    "        out = fc(out)\n",
    "        pred = torch.argmax(out, dim=1)\n",
    "        y_pred.extend(pred.detach().numpy())\n",
    "        y_true.extend(label.detach().numpy())\n",
    "    return y_true, y_pred\n",
    "\n",
    "y_true, y_pred = evaluate(model, test_loader)\n",
    "accuracy = accuracy_score(y_true, y_pred)\n",
    "conf_matrix = confusion_matrix(y_true, y_pred)\n",
    "\n",
    "print(f\"Accuracy: {accuracy}\")\n",
    "print(f\"Confusion Matrix:\\n{conf_matrix}\")\n",
    "\n",
    "# Plot the confusion matrix\n",
    "plt.figure(figsize=(10, 8))\n",
    "conf_matrix = confusion_matrix(y_true, y_pred, normalize='true')\n",
    "sns.heatmap(\n",
    "    conf_matrix, fmt='g', cmap='Blues',\n",
    "    xticklabels=labels.values(), yticklabels=labels.values())\n",
    "plt.xlabel('Predicted labels')\n",
    "plt.ylabel('True labels')\n",
    "plt.title('Confusion Matrix on test set')\n",
    "plt.show()"
   ]
  },
  {
   "cell_type": "code",
   "execution_count": null,
   "metadata": {},
   "outputs": [],
   "source": []
  }
 ],
 "metadata": {
  "kernelspec": {
   "display_name": "env_1",
   "language": "python",
   "name": "python3"
  },
  "language_info": {
   "codemirror_mode": {
    "name": "ipython",
    "version": 3
   },
   "file_extension": ".py",
   "mimetype": "text/x-python",
   "name": "python",
   "nbconvert_exporter": "python",
   "pygments_lexer": "ipython3",
   "version": "3.10.13"
  }
 },
 "nbformat": 4,
 "nbformat_minor": 4
}
